{
 "cells": [
  {
   "cell_type": "code",
   "execution_count": 7,
   "metadata": {
    "collapsed": false,
    "deletable": true,
    "editable": true
   },
   "outputs": [
    {
     "name": "stdout",
     "output_type": "stream",
     "text": [
      "Introdu Orasul:Roma\n",
      "\n",
      "Roma's temperature: 9.76°C \n",
      "Wind speed: 5.1 m/s\n",
      "Description: light intensity drizzle\n",
      "Weather: Drizzle\n",
      "\n"
     ]
    }
   ],
   "source": [
    "# Vremea in timp real\n",
    "\n",
    "# Aplicatie in care introducem un oras si putem vedea vremea \n",
    "\n",
    "import requests\n",
    "from pprint import pprint\n",
    "\n",
    "def weather_data(query):\n",
    "    res=requests.get('http://api.openweathermap.org/data/2.5/weather?'+query+'&APPID=b35975e18dc93725acb092f7272cc6b8&units=metric');\n",
    "    return res.json();\n",
    "\n",
    "# Facem o interogare si prin conectarea unui API Key (Application programming interface) ne conectam la un 'provider de date' \n",
    "# De unde primim raspunsurile privind vremea in orasele unde ne intereseaza\n",
    "\n",
    "def print_weather(result,city):\n",
    "    print(\"{}'s temperature: {}°C \".format(city,result['main']['temp']))\n",
    "    print(\"Wind speed: {} m/s\".format(result['wind']['speed']))\n",
    "    print(\"Description: {}\".format(result['weather'][0]['description']))\n",
    "    print(\"Weather: {}\".format(result['weather'][0]['main']))\n",
    "    \n",
    "# Am setat tipurile de date care ne intereseaza sa le vizualizam atunci cand facem o interogare, cand introducem un oras\n",
    "\n",
    "def main():\n",
    "    city=input('Introdu Orasul:')\n",
    "    print()\n",
    "\n",
    "# Prin try-except tratam eventuale exceptii care pot aparea \n",
    "    try:\n",
    "      query='q='+city;\n",
    "      w_data=weather_data(query);\n",
    "      print_weather(w_data, city)\n",
    "      print()\n",
    "\n",
    "# Declaratia try lucreaza astfel:\n",
    "# Mai intai decalaratia dintre cuvintele cheie try si except este executata. Putem avea 4 situatii.\n",
    "#    In cazul in care nu apare nicio exceptie, codul sare peste clauza except si termina de executat declaratia try.\n",
    "#    In cazul in care apare in schimb o exceptie in timpul executiei declaratiei try, se sare peste restul executiei codului.\n",
    "#    Apoi daca exceptia se potriveste cu numele dupa cuvantul cheie except, in cazul respectiv exceptie este executata si continua\n",
    "#    executia si dupa declaratia try.\n",
    "#    In cazul in care exceptia aparuta nu se potriveste cu numele dupa cuvantul cheie except, in cazul respectiv este trimisa catre\n",
    "#    declaratia try, iar daca nu intalneste niciun handler, este o exceptie netratata si executia se opreste cu mesajul pe care il setam noi.\n",
    "#    exceptie este executata si continua\n",
    "#    executia si dupa declaratia try. \n",
    "\n",
    "  \n",
    "    except:\n",
    "      print('City name not found...')  \n",
    "if __name__=='__main__':\n",
    "    main()"
   ]
  },
  {
   "cell_type": "code",
   "execution_count": null,
   "metadata": {
    "collapsed": true,
    "deletable": true,
    "editable": true
   },
   "outputs": [],
   "source": []
  },
  {
   "cell_type": "code",
   "execution_count": null,
   "metadata": {
    "collapsed": true,
    "deletable": true,
    "editable": true
   },
   "outputs": [],
   "source": []
  }
 ],
 "metadata": {
  "kernelspec": {
   "display_name": "Python 2",
   "language": "python",
   "name": "python2"
  },
  "language_info": {
   "codemirror_mode": {
    "name": "ipython",
    "version": 3
   },
   "file_extension": ".py",
   "mimetype": "text/x-python",
   "name": "python",
   "nbconvert_exporter": "python",
   "pygments_lexer": "ipython3",
   "version": "3.7.1"
  }
 },
 "nbformat": 4,
 "nbformat_minor": 2
}
